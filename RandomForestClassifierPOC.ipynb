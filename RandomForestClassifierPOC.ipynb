{
  "nbformat": 4,
  "nbformat_minor": 0,
  "metadata": {
    "colab": {
      "name": "RandomForestClassifierPOC.ipynb",
      "provenance": [],
      "collapsed_sections": [],
      "include_colab_link": true
    },
    "kernelspec": {
      "name": "python3",
      "display_name": "Python 3"
    },
    "accelerator": "GPU"
  },
  "cells": [
    {
      "cell_type": "markdown",
      "metadata": {
        "id": "view-in-github",
        "colab_type": "text"
      },
      "source": [
        "<a href=\"https://colab.research.google.com/github/abhranil-datascience/ClassificationPOC/blob/master/RandomForestClassifierPOC.ipynb\" target=\"_parent\"><img src=\"https://colab.research.google.com/assets/colab-badge.svg\" alt=\"Open In Colab\"/></a>"
      ]
    },
    {
      "cell_type": "code",
      "metadata": {
        "id": "9YQg9_wurnt2",
        "colab_type": "code",
        "outputId": "20990635-5a21-4c55-a633-324166beff4d",
        "colab": {
          "base_uri": "https://localhost:8080/",
          "height": 135
        }
      },
      "source": [
        "############################## Mount Drive ######################################## \n",
        "from google.colab import drive\n",
        "drive.mount('/content/gdrive')\n",
        "############################## Change Directory ###################################\n",
        "import os\n",
        "os.chdir('/content/gdrive/My Drive/MLandDLFullCourse/ML/Classification/RandomForestClassifier')\n",
        "########## Suppress Warnings ############\n",
        "import warnings\n",
        "warnings.filterwarnings('ignore')\n",
        "########### Import Dataset #############\n",
        "import pandas as pd\n",
        "dataset=pd.read_csv('Social_Network_Ads.csv')\n",
        "X=dataset.iloc[:,1:4].values\n",
        "Y=dataset.iloc[:,4].values\n",
        "########### Categorical Variable ###############\n",
        "from sklearn.preprocessing import LabelEncoder\n",
        "le=LabelEncoder()\n",
        "X[:,0]=le.fit_transform(X[:,0])\n",
        "########## Feature Scaling ##############\n",
        "from sklearn.preprocessing import MinMaxScaler\n",
        "SC=MinMaxScaler(feature_range=(0,1))\n",
        "XScaled=SC.fit_transform(X)\n",
        "########## Train Test Split #############\n",
        "from sklearn.model_selection import train_test_split\n",
        "XTrain,XTest,YTrain,YTest=train_test_split(XScaled,Y,test_size=0.1,random_state=42)\n",
        "########## Check VIF ####################\n",
        "from statsmodels.stats.outliers_influence import variance_inflation_factor\n",
        "VIF=[0]*XTrain.shape[1]\n",
        "for col in range(0,XTrain.shape[1]):\n",
        "  VIF[col]=VIF[col]+variance_inflation_factor(exog=XTrain,exog_idx=col)#1.6142518559270171, 2.9082305467018816, 2.753146445004674\n",
        "VIF"
      ],
      "execution_count": 0,
      "outputs": [
        {
          "output_type": "stream",
          "text": [
            "Go to this URL in a browser: https://accounts.google.com/o/oauth2/auth?client_id=947318989803-6bn6qk8qdgf4n4g3pfee6491hc0brc4i.apps.googleusercontent.com&redirect_uri=urn%3aietf%3awg%3aoauth%3a2.0%3aoob&response_type=code&scope=email%20https%3a%2f%2fwww.googleapis.com%2fauth%2fdocs.test%20https%3a%2f%2fwww.googleapis.com%2fauth%2fdrive%20https%3a%2f%2fwww.googleapis.com%2fauth%2fdrive.photos.readonly%20https%3a%2f%2fwww.googleapis.com%2fauth%2fpeopleapi.readonly\n",
            "\n",
            "Enter your authorization code:\n",
            "··········\n",
            "Mounted at /content/gdrive\n"
          ],
          "name": "stdout"
        },
        {
          "output_type": "execute_result",
          "data": {
            "text/plain": [
              "[1.6142518559270171, 2.9082305467018816, 2.753146445004674]"
            ]
          },
          "metadata": {
            "tags": []
          },
          "execution_count": 1
        }
      ]
    },
    {
      "cell_type": "code",
      "metadata": {
        "id": "1TS3m-R2_nTA",
        "colab_type": "code",
        "outputId": "27ae0374-e2b2-4ae4-b769-47a7bdb6c000",
        "colab": {
          "base_uri": "https://localhost:8080/",
          "height": 115
        }
      },
      "source": [
        "######### Grid Search CV ##############\n",
        "from sklearn.ensemble import RandomForestClassifier\n",
        "RegressorRF_GS=RandomForestClassifier()\n",
        "from sklearn import metrics as mt\n",
        "import statistics as st\n",
        "params_GS=[{'n_estimators':[20,25,30,35,40,45],\n",
        "           'criterion':['gini','entropy'],\n",
        "           'min_impurity_decrease':[0.01,0.05],\n",
        "           'min_impurity_split':[1e-8,5e-8,1e-7],\n",
        "           'oob_score':[False],\n",
        "           'warm_start':[True]}]\n",
        "from sklearn.model_selection import GridSearchCV\n",
        "GS=GridSearchCV(estimator=RegressorRF_GS,param_grid=params_GS,scoring='accuracy',cv=3)\n",
        "GS.fit(XTrain,YTrain)\n",
        "bestParamsGS=GS.best_params_\n",
        "bestParamsGS"
      ],
      "execution_count": 0,
      "outputs": [
        {
          "output_type": "execute_result",
          "data": {
            "text/plain": [
              "{'criterion': 'gini',\n",
              " 'min_impurity_decrease': 0.01,\n",
              " 'min_impurity_split': 1e-08,\n",
              " 'n_estimators': 40,\n",
              " 'oob_score': False,\n",
              " 'warm_start': True}"
            ]
          },
          "metadata": {
            "tags": []
          },
          "execution_count": 4
        }
      ]
    },
    {
      "cell_type": "code",
      "metadata": {
        "id": "9E1kcJ2mO1Zc",
        "colab_type": "code",
        "outputId": "a4da69bb-b26d-4b87-e3a0-5102f44debb0",
        "colab": {
          "base_uri": "https://localhost:8080/",
          "height": 33
        }
      },
      "source": [
        "######### KFold Cross Validation #############\n",
        "RegressorRF=RandomForestClassifier(criterion='gini',min_impurity_decrease=0.01,min_impurity_split=1e-08,n_estimators=40,oob_score=False,warm_start=True)\n",
        "from sklearn.model_selection import KFold\n",
        "from sklearn import metrics as mt\n",
        "import statistics as st\n",
        "kf=KFold(n_splits=40,shuffle=True)\n",
        "Accuracy=[]\n",
        "for count in range(0,100):\n",
        "  for train_index,val_index in kf.split(XTrain):\n",
        "    XTrainKF,YTrainKF=XTrain[train_index],YTrain[train_index]\n",
        "    XValKF,YValKF=XTrain[val_index],YTrain[val_index]\n",
        "    RegressorRF.fit(XTrainKF,YTrainKF)\n",
        "    YPredKF=RegressorRF.predict(XValKF)\n",
        "    Accuracy.append(mt.accuracy_score(YValKF,YPredKF))\n",
        "print(\"Average Accuracy: \"+str(st.mean(Accuracy)))#0.9138888888888889"
      ],
      "execution_count": 0,
      "outputs": [
        {
          "output_type": "stream",
          "text": [
            "Average Accuracy: 0.9138888888888889\n"
          ],
          "name": "stdout"
        }
      ]
    },
    {
      "cell_type": "code",
      "metadata": {
        "id": "AfOUhTQLO3YM",
        "colab_type": "code",
        "outputId": "32897905-c772-4270-8965-8c76f9b34df6",
        "colab": {
          "base_uri": "https://localhost:8080/",
          "height": 50
        }
      },
      "source": [
        "RegressorRF.fit(XTrain,YTrain)\n",
        "YPred=RegressorRF.predict(XTest)\n",
        "cm=mt.confusion_matrix(YTest,YPred)\n",
        "cm"
      ],
      "execution_count": 0,
      "outputs": [
        {
          "output_type": "execute_result",
          "data": {
            "text/plain": [
              "array([[25,  2],\n",
              "       [ 0, 13]])"
            ]
          },
          "metadata": {
            "tags": []
          },
          "execution_count": 7
        }
      ]
    }
  ]
}