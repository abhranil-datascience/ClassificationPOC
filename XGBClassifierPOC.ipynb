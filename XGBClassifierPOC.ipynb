{
  "nbformat": 4,
  "nbformat_minor": 0,
  "metadata": {
    "colab": {
      "name": "XGBClassifierPOC.ipynb",
      "provenance": [],
      "collapsed_sections": [],
      "include_colab_link": true
    },
    "kernelspec": {
      "name": "python3",
      "display_name": "Python 3"
    },
    "accelerator": "GPU"
  },
  "cells": [
    {
      "cell_type": "markdown",
      "metadata": {
        "id": "view-in-github",
        "colab_type": "text"
      },
      "source": [
        "<a href=\"https://colab.research.google.com/github/abhranil-datascience/ClassificationPOC/blob/master/XGBClassifierPOC.ipynb\" target=\"_parent\"><img src=\"https://colab.research.google.com/assets/colab-badge.svg\" alt=\"Open In Colab\"/></a>"
      ]
    },
    {
      "cell_type": "code",
      "metadata": {
        "id": "a2DalOABKqjD",
        "colab_type": "code",
        "outputId": "dff607c9-c7c6-48f9-a13d-fc1e309b46f8",
        "colab": {
          "base_uri": "https://localhost:8080/",
          "height": 135
        }
      },
      "source": [
        "############################## Mount Drive ######################################## \n",
        "from google.colab import drive\n",
        "drive.mount('/content/gdrive')\n",
        "############################## Change Directory ###################################\n",
        "import os\n",
        "os.chdir('/content/gdrive/My Drive/MLandDLFullCourse/ML/Classification/XGBClassifier')\n",
        "########## Suppress Warnings ############\n",
        "import warnings\n",
        "warnings.filterwarnings('ignore')\n",
        "########### Import Dataset #############\n",
        "import pandas as pd\n",
        "dataset=pd.read_csv('Social_Network_Ads.csv')\n",
        "X=dataset.iloc[:,1:4].values\n",
        "Y=dataset.iloc[:,4].values\n",
        "########### Categorical Variable ###############\n",
        "from sklearn.preprocessing import LabelEncoder\n",
        "le=LabelEncoder()\n",
        "X[:,0]=le.fit_transform(X[:,0])\n",
        "########## Feature Scaling ##############\n",
        "from sklearn.preprocessing import MinMaxScaler\n",
        "SC=MinMaxScaler(feature_range=(0,1))\n",
        "XScaled=SC.fit_transform(X)\n",
        "########## Train Test Split #############\n",
        "from sklearn.model_selection import train_test_split\n",
        "XTrain,XTest,YTrain,YTest=train_test_split(XScaled,Y,test_size=0.1,random_state=42)\n",
        "########## Check VIF ####################\n",
        "from statsmodels.stats.outliers_influence import variance_inflation_factor\n",
        "VIF=[0]*XTrain.shape[1]\n",
        "for col in range(0,XTrain.shape[1]):\n",
        "  VIF[col]=VIF[col]+variance_inflation_factor(exog=XTrain,exog_idx=col)#1.6142518559270171, 2.9082305467018816, 2.753146445004674\n",
        "VIF"
      ],
      "execution_count": 0,
      "outputs": [
        {
          "output_type": "stream",
          "text": [
            "Go to this URL in a browser: https://accounts.google.com/o/oauth2/auth?client_id=947318989803-6bn6qk8qdgf4n4g3pfee6491hc0brc4i.apps.googleusercontent.com&redirect_uri=urn%3aietf%3awg%3aoauth%3a2.0%3aoob&response_type=code&scope=email%20https%3a%2f%2fwww.googleapis.com%2fauth%2fdocs.test%20https%3a%2f%2fwww.googleapis.com%2fauth%2fdrive%20https%3a%2f%2fwww.googleapis.com%2fauth%2fdrive.photos.readonly%20https%3a%2f%2fwww.googleapis.com%2fauth%2fpeopleapi.readonly\n",
            "\n",
            "Enter your authorization code:\n",
            "··········\n",
            "Mounted at /content/gdrive\n"
          ],
          "name": "stdout"
        },
        {
          "output_type": "execute_result",
          "data": {
            "text/plain": [
              "[1.6142518559270171, 2.9082305467018816, 2.753146445004674]"
            ]
          },
          "metadata": {
            "tags": []
          },
          "execution_count": 1
        }
      ]
    },
    {
      "cell_type": "code",
      "metadata": {
        "id": "Iv9F1_LcYPsQ",
        "colab_type": "code",
        "outputId": "cba91729-0bf8-428e-fcae-3c426fde7c3f",
        "colab": {
          "base_uri": "https://localhost:8080/",
          "height": 98
        }
      },
      "source": [
        "######### Grid Search CV ############\n",
        "from xgboost import XGBClassifier\n",
        "from sklearn.model_selection import GridSearchCV\n",
        "XGBClassifier_GS=XGBClassifier()\n",
        "params_XGB=[{'max_depth':[3,4,5],\n",
        "            'learning_rate':[0.00001,0.00005,0.0001],\n",
        "            'n_estimators':[1,5,10,15,20,25,30,35,40,45,50],\n",
        "            'booster':['gbtree','gblinear','dart'],\n",
        "            'gamma':[0.00001,0.00005,0.0001,0.0005]}]\n",
        "RegressorXGB=XGBClassifier()\n",
        "GS=GridSearchCV(estimator=RegressorXGB,param_grid=params_XGB,scoring='accuracy',cv=3)\n",
        "GS.fit(XTrain,YTrain)\n",
        "best_params=GS.best_params_\n",
        "best_params"
      ],
      "execution_count": 0,
      "outputs": [
        {
          "output_type": "execute_result",
          "data": {
            "text/plain": [
              "{'booster': 'gbtree',\n",
              " 'gamma': 1e-05,\n",
              " 'learning_rate': 1e-05,\n",
              " 'max_depth': 3,\n",
              " 'n_estimators': 1}"
            ]
          },
          "metadata": {
            "tags": []
          },
          "execution_count": 4
        }
      ]
    },
    {
      "cell_type": "code",
      "metadata": {
        "id": "aKBzI5dIQNhH",
        "colab_type": "code",
        "outputId": "99dbcd9e-3d7b-43db-de6b-efa2d0f2ddb9",
        "colab": {
          "base_uri": "https://localhost:8080/",
          "height": 33
        }
      },
      "source": [
        "######### KFold ############\n",
        "from sklearn.model_selection import KFold\n",
        "kf=KFold(n_splits=40,shuffle=True)\n",
        "from sklearn import metrics as mt\n",
        "import statistics as st\n",
        "XGB=XGBClassifier(booster='gbtree',gamma=1e-05,learning_rate=1e-05,max_depth=3,n_estimators=1)\n",
        "Accuracies=[]\n",
        "for count in range(0,100):\n",
        "  for train_index,val_index in kf.split(XTrain):\n",
        "    XTrainKF,YTrainKF=XTrain[train_index],YTrain[train_index]\n",
        "    XValKF,YValKF=XTrain[val_index],YTrain[val_index]\n",
        "    XGB.fit(XTrainKF,YTrainKF)\n",
        "    YPredKF=XGB.predict(XValKF)\n",
        "    Accuracies.append(mt.accuracy_score(YValKF,YPredKF))\n",
        "print(\"Average Accuracy: \"+str(st.mean(Accuracies)))#0.9074722222222222"
      ],
      "execution_count": 0,
      "outputs": [
        {
          "output_type": "stream",
          "text": [
            "Average Accuracy: 0.9075833333333333\n"
          ],
          "name": "stdout"
        }
      ]
    },
    {
      "cell_type": "code",
      "metadata": {
        "id": "uNpGtdDgQPjD",
        "colab_type": "code",
        "outputId": "e5785a24-94da-4f0f-be02-f1f7077c38b6",
        "colab": {
          "base_uri": "https://localhost:8080/",
          "height": 66
        }
      },
      "source": [
        "########### Predict ################\n",
        "XGB.fit(XTrain,YTrain)\n",
        "YPred=XGB.predict(XTest)\n",
        "print(\"Accuracy: \"+str(mt.accuracy_score(YTest,YPred)))#0.925\n",
        "cm=mt.confusion_matrix(YTest,YPred)\n",
        "cm"
      ],
      "execution_count": 0,
      "outputs": [
        {
          "output_type": "stream",
          "text": [
            "Accuracy: 0.925\n"
          ],
          "name": "stdout"
        },
        {
          "output_type": "execute_result",
          "data": {
            "text/plain": [
              "array([[24,  3],\n",
              "       [ 0, 13]])"
            ]
          },
          "metadata": {
            "tags": []
          },
          "execution_count": 7
        }
      ]
    }
  ]
}