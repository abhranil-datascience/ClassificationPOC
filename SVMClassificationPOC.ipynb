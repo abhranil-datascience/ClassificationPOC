{
  "nbformat": 4,
  "nbformat_minor": 0,
  "metadata": {
    "colab": {
      "name": "SVMClassificationPOC.ipynb",
      "provenance": [],
      "collapsed_sections": [],
      "include_colab_link": true
    },
    "kernelspec": {
      "name": "python3",
      "display_name": "Python 3"
    },
    "accelerator": "GPU"
  },
  "cells": [
    {
      "cell_type": "markdown",
      "metadata": {
        "id": "view-in-github",
        "colab_type": "text"
      },
      "source": [
        "<a href=\"https://colab.research.google.com/github/abhranil-datascience/ClassificationPOC/blob/master/SVMClassificationPOC.ipynb\" target=\"_parent\"><img src=\"https://colab.research.google.com/assets/colab-badge.svg\" alt=\"Open In Colab\"/></a>"
      ]
    },
    {
      "cell_type": "code",
      "metadata": {
        "id": "nXcfgG90vQGH",
        "colab_type": "code",
        "outputId": "7bf65c12-f8c9-4414-a605-41fe955f5f7b",
        "colab": {
          "base_uri": "https://localhost:8080/",
          "height": 118
        }
      },
      "source": [
        "############################## Mount Drive ######################################## \n",
        "from google.colab import drive\n",
        "drive.mount('/content/gdrive')\n",
        "############################## Change Directory ###################################\n",
        "import os\n",
        "os.chdir('/content/gdrive/My Drive/MLandDLFullCourse/ML/Classification/SVM')\n",
        "########## Suppress Warnings ############\n",
        "import warnings\n",
        "warnings.filterwarnings('ignore')\n",
        "########### Import Dataset #############\n",
        "import pandas as pd\n",
        "dataset=pd.read_csv('Social_Network_Ads.csv')\n",
        "X=dataset.iloc[:,1:4].values\n",
        "Y=dataset.iloc[:,4].values"
      ],
      "execution_count": 0,
      "outputs": [
        {
          "output_type": "stream",
          "text": [
            "Go to this URL in a browser: https://accounts.google.com/o/oauth2/auth?client_id=947318989803-6bn6qk8qdgf4n4g3pfee6491hc0brc4i.apps.googleusercontent.com&redirect_uri=urn%3aietf%3awg%3aoauth%3a2.0%3aoob&response_type=code&scope=email%20https%3a%2f%2fwww.googleapis.com%2fauth%2fdocs.test%20https%3a%2f%2fwww.googleapis.com%2fauth%2fdrive%20https%3a%2f%2fwww.googleapis.com%2fauth%2fdrive.photos.readonly%20https%3a%2f%2fwww.googleapis.com%2fauth%2fpeopleapi.readonly\n",
            "\n",
            "Enter your authorization code:\n",
            "··········\n",
            "Mounted at /content/gdrive\n"
          ],
          "name": "stdout"
        }
      ]
    },
    {
      "cell_type": "code",
      "metadata": {
        "id": "WBTElfLbvjLM",
        "colab_type": "code",
        "outputId": "f25157d7-f672-4b13-8581-63164faf2395",
        "colab": {
          "base_uri": "https://localhost:8080/",
          "height": 33
        }
      },
      "source": [
        "########### Categorical Variable ###############\n",
        "from sklearn.preprocessing import LabelEncoder\n",
        "le=LabelEncoder()\n",
        "X[:,0]=le.fit_transform(X[:,0])\n",
        "########## Feature Scaling ##############\n",
        "from sklearn.preprocessing import MinMaxScaler\n",
        "SC=MinMaxScaler(feature_range=(0,1))\n",
        "XScaled=SC.fit_transform(X)\n",
        "########## Train Test Split #############\n",
        "from sklearn.model_selection import train_test_split\n",
        "XTrain,XTest,YTrain,YTest=train_test_split(XScaled,Y,test_size=0.1,random_state=42)\n",
        "########## Check VIF ####################\n",
        "from statsmodels.stats.outliers_influence import variance_inflation_factor\n",
        "VIF=[0]*XTrain.shape[1]\n",
        "for col in range(0,XTrain.shape[1]):\n",
        "  VIF[col]=VIF[col]+variance_inflation_factor(exog=XTrain,exog_idx=col)#1.6142518559270171, 2.9082305467018816, 2.753146445004674\n",
        "VIF"
      ],
      "execution_count": 0,
      "outputs": [
        {
          "output_type": "execute_result",
          "data": {
            "text/plain": [
              "[1.6142518559270171, 2.9082305467018816, 2.753146445004674]"
            ]
          },
          "metadata": {
            "tags": []
          },
          "execution_count": 2
        }
      ]
    },
    {
      "cell_type": "code",
      "metadata": {
        "id": "4e_qRvjWLVLv",
        "colab_type": "code",
        "outputId": "40f4249d-cffd-4951-99b1-357893c9c1ac",
        "colab": {
          "base_uri": "https://localhost:8080/",
          "height": 180
        }
      },
      "source": [
        "########## Grid Search CV for hyperparameter tuning ##########\n",
        "from sklearn.svm import SVC\n",
        "RegressorSVC_GS=SVC()\n",
        "parametersGS=[{'C':[1],\n",
        "              'kernel':['poly'],\n",
        "              'degree':[3],\n",
        "              'gamma':[0.9],\n",
        "              'coef0':[0.5],\n",
        "              'shrinking':[True],\n",
        "              'probability':[True],\n",
        "              'tol':[0.00001,0.00005,0.0001],\n",
        "              'decision_function_shape':['ovo','ovr'],\n",
        "              'verbose':[2]}]\n",
        "from sklearn.model_selection import GridSearchCV\n",
        "GS=GridSearchCV(estimator=RegressorSVC_GS,param_grid=parametersGS,scoring='accuracy',cv=3)\n",
        "GS.fit(XTrain,YTrain)\n",
        "best_params_SVC=GS.best_params_\n",
        "best_params_SVC"
      ],
      "execution_count": 0,
      "outputs": [
        {
          "output_type": "stream",
          "text": [
            "[LibSVM][LibSVM][LibSVM][LibSVM][LibSVM][LibSVM][LibSVM][LibSVM][LibSVM][LibSVM][LibSVM][LibSVM][LibSVM][LibSVM][LibSVM][LibSVM][LibSVM][LibSVM][LibSVM]"
          ],
          "name": "stdout"
        },
        {
          "output_type": "execute_result",
          "data": {
            "text/plain": [
              "{'C': 1,\n",
              " 'coef0': 0.5,\n",
              " 'decision_function_shape': 'ovo',\n",
              " 'degree': 3,\n",
              " 'gamma': 0.9,\n",
              " 'kernel': 'poly',\n",
              " 'probability': True,\n",
              " 'shrinking': True,\n",
              " 'tol': 1e-05,\n",
              " 'verbose': 2}"
            ]
          },
          "metadata": {
            "tags": []
          },
          "execution_count": 4
        }
      ]
    },
    {
      "cell_type": "code",
      "metadata": {
        "id": "9zR-CNIWLZWG",
        "colab_type": "code",
        "outputId": "90cdb058-c652-4743-a9ad-877b2b44c651",
        "colab": {
          "base_uri": "https://localhost:8080/",
          "height": 33
        }
      },
      "source": [
        "######### KFold Cross Validation #############\n",
        "RegressorSVC=SVC(C=1,coef0=0.5,decision_function_shape='ovo',degree=3,gamma=0.9,kernel='poly',\n",
        "                 probability=True,shrinking=True,tol=0.00001)\n",
        "from sklearn.model_selection import KFold\n",
        "from sklearn import metrics as mt\n",
        "import statistics as st\n",
        "Accuracy=[]\n",
        "kf=KFold(n_splits=40,shuffle=True)\n",
        "for count in range(0,100):\n",
        "  for train_index,val_index in kf.split(XTrain):\n",
        "    XTrainKF,YTrainKF=XTrain[train_index],YTrain[train_index]\n",
        "    XValKF,YValKF=XTrain[val_index],YTrain[val_index]\n",
        "    RegressorSVC.fit(XTrainKF,YTrainKF)\n",
        "    YPRedKF=RegressorSVC.predict(XValKF)\n",
        "    Accuracy.append(mt.accuracy_score(YValKF,YPRedKF))\n",
        "print(\"Average Accuracy: \"+str(st.mean(Accuracy)))#0.8846388888888889"
      ],
      "execution_count": 0,
      "outputs": [
        {
          "output_type": "stream",
          "text": [
            "Average Accuracy: 0.8844444444444445\n"
          ],
          "name": "stdout"
        }
      ]
    },
    {
      "cell_type": "code",
      "metadata": {
        "id": "sc8dhCMaLfHe",
        "colab_type": "code",
        "outputId": "a088ef4c-7dfe-4fbd-cc6c-e1305f55d931",
        "colab": {
          "base_uri": "https://localhost:8080/",
          "height": 50
        }
      },
      "source": [
        "########### Predict ###############\n",
        "RegressorSVC.fit(XTrain,YTrain)\n",
        "YPred=RegressorSVC.predict(XTest)\n",
        "cm=mt.confusion_matrix(YTest,YPred)\n",
        "cm"
      ],
      "execution_count": 0,
      "outputs": [
        {
          "output_type": "execute_result",
          "data": {
            "text/plain": [
              "array([[26,  1],\n",
              "       [ 1, 12]])"
            ]
          },
          "metadata": {
            "tags": []
          },
          "execution_count": 6
        }
      ]
    }
  ]
}