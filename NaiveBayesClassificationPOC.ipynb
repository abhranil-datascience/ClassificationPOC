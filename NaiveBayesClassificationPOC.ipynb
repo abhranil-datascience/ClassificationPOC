{
  "nbformat": 4,
  "nbformat_minor": 0,
  "metadata": {
    "colab": {
      "name": "NaiveBayesClassificationPOC.ipynb",
      "provenance": [],
      "collapsed_sections": [],
      "include_colab_link": true
    },
    "kernelspec": {
      "name": "python3",
      "display_name": "Python 3"
    },
    "accelerator": "GPU"
  },
  "cells": [
    {
      "cell_type": "markdown",
      "metadata": {
        "id": "view-in-github",
        "colab_type": "text"
      },
      "source": [
        "<a href=\"https://colab.research.google.com/github/abhranil-datascience/ClassificationPOC/blob/master/NaiveBayesClassificationPOC.ipynb\" target=\"_parent\"><img src=\"https://colab.research.google.com/assets/colab-badge.svg\" alt=\"Open In Colab\"/></a>"
      ]
    },
    {
      "cell_type": "code",
      "metadata": {
        "id": "57h2r5UUSRuk",
        "colab_type": "code",
        "outputId": "a37475bc-12dd-4710-d609-98bde9bb3276",
        "colab": {
          "base_uri": "https://localhost:8080/",
          "height": 135
        }
      },
      "source": [
        "############################## Mount Drive ######################################## \n",
        "from google.colab import drive\n",
        "drive.mount('/content/gdrive')\n",
        "############################## Change Directory ###################################\n",
        "import os\n",
        "os.chdir('/content/gdrive/My Drive/MLandDLFullCourse/ML/Classification/NaiveBayesClassifier')\n",
        "########## Suppress Warnings ############\n",
        "import warnings\n",
        "warnings.filterwarnings('ignore')\n",
        "########### Import Dataset #############\n",
        "import pandas as pd\n",
        "dataset=pd.read_csv('Social_Network_Ads.csv')\n",
        "X=dataset.iloc[:,1:4].values\n",
        "Y=dataset.iloc[:,4].values\n",
        "########### Categorical Variable ###############\n",
        "from sklearn.preprocessing import LabelEncoder\n",
        "le=LabelEncoder()\n",
        "X[:,0]=le.fit_transform(X[:,0])\n",
        "########## Feature Scaling ##############\n",
        "from sklearn.preprocessing import MinMaxScaler\n",
        "SC=MinMaxScaler(feature_range=(0,1))\n",
        "XScaled=SC.fit_transform(X)\n",
        "########## Train Test Split #############\n",
        "from sklearn.model_selection import train_test_split\n",
        "XTrain,XTest,YTrain,YTest=train_test_split(XScaled,Y,test_size=0.1,random_state=42)\n",
        "########## Check VIF ####################\n",
        "from statsmodels.stats.outliers_influence import variance_inflation_factor\n",
        "VIF=[0]*XTrain.shape[1]\n",
        "for col in range(0,XTrain.shape[1]):\n",
        "  VIF[col]=VIF[col]+variance_inflation_factor(exog=XTrain,exog_idx=col)#1.6142518559270171, 2.9082305467018816, 2.753146445004674\n",
        "VIF"
      ],
      "execution_count": 0,
      "outputs": [
        {
          "output_type": "stream",
          "text": [
            "Go to this URL in a browser: https://accounts.google.com/o/oauth2/auth?client_id=947318989803-6bn6qk8qdgf4n4g3pfee6491hc0brc4i.apps.googleusercontent.com&redirect_uri=urn%3aietf%3awg%3aoauth%3a2.0%3aoob&response_type=code&scope=email%20https%3a%2f%2fwww.googleapis.com%2fauth%2fdocs.test%20https%3a%2f%2fwww.googleapis.com%2fauth%2fdrive%20https%3a%2f%2fwww.googleapis.com%2fauth%2fdrive.photos.readonly%20https%3a%2f%2fwww.googleapis.com%2fauth%2fpeopleapi.readonly\n",
            "\n",
            "Enter your authorization code:\n",
            "··········\n",
            "Mounted at /content/gdrive\n"
          ],
          "name": "stdout"
        },
        {
          "output_type": "execute_result",
          "data": {
            "text/plain": [
              "[1.6142518559270171, 2.9082305467018816, 2.753146445004674]"
            ]
          },
          "metadata": {
            "tags": []
          },
          "execution_count": 1
        }
      ]
    },
    {
      "cell_type": "code",
      "metadata": {
        "id": "1PZEQ04FX7rX",
        "colab_type": "code",
        "outputId": "7bf51220-a6a9-472b-cadf-3be2e4955cbb",
        "colab": {
          "base_uri": "https://localhost:8080/",
          "height": 33
        }
      },
      "source": [
        "######### ApplyKFold for model evaluation ##############\n",
        "from sklearn.naive_bayes import GaussianNB\n",
        "RegressorNB_KF=GaussianNB()\n",
        "from sklearn.model_selection import KFold\n",
        "from sklearn import metrics as mt\n",
        "Accuracy=[]\n",
        "kf=KFold(n_splits=40,shuffle=True)\n",
        "for count in range(0,100):\n",
        "  for train_index,val_index in kf.split(XTrain):\n",
        "    XTrainKF,XTestKF=XTrain[train_index],XTrain[val_index]\n",
        "    YTrainKF,YTestKF=YTrain[train_index],YTrain[val_index]\n",
        "    RegressorNB_KF.fit(XTrainKF,YTrainKF)\n",
        "    YPredKF=RegressorNB_KF.predict(XTestKF)\n",
        "    Accuracy.append(mt.accuracy_score(YTestKF,YPredKF))\n",
        "import statistics as st\n",
        "print(\"Average Accuracy: \"+str(st.mean(Accuracy)))#0.8821388888888889"
      ],
      "execution_count": 0,
      "outputs": [
        {
          "output_type": "stream",
          "text": [
            "Average Accuracy: 0.8818055555555555\n"
          ],
          "name": "stdout"
        }
      ]
    },
    {
      "cell_type": "code",
      "metadata": {
        "id": "0OE_8oINNCeb",
        "colab_type": "code",
        "outputId": "41e0ca9c-c73a-403b-94a1-7a554d2c18c2",
        "colab": {
          "base_uri": "https://localhost:8080/",
          "height": 50
        }
      },
      "source": [
        "RegressorNB=GaussianNB()\n",
        "RegressorNB.fit(XTrain,YTrain)\n",
        "YPred=RegressorNB.predict(XTest)\n",
        "cm=mt.confusion_matrix(YTest,YPred)\n",
        "cm"
      ],
      "execution_count": 0,
      "outputs": [
        {
          "output_type": "execute_result",
          "data": {
            "text/plain": [
              "array([[25,  2],\n",
              "       [ 1, 12]])"
            ]
          },
          "metadata": {
            "tags": []
          },
          "execution_count": 4
        }
      ]
    }
  ]
}