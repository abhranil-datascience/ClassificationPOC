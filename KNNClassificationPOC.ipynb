{
  "nbformat": 4,
  "nbformat_minor": 0,
  "metadata": {
    "colab": {
      "name": "KNNClassificationPOC.ipynb",
      "provenance": [],
      "collapsed_sections": [],
      "include_colab_link": true
    },
    "kernelspec": {
      "name": "python3",
      "display_name": "Python 3"
    }
  },
  "cells": [
    {
      "cell_type": "markdown",
      "metadata": {
        "id": "view-in-github",
        "colab_type": "text"
      },
      "source": [
        "<a href=\"https://colab.research.google.com/github/abhranil-datascience/ClassificationPOC/blob/master/KNNClassificationPOC.ipynb\" target=\"_parent\"><img src=\"https://colab.research.google.com/assets/colab-badge.svg\" alt=\"Open In Colab\"/></a>"
      ]
    },
    {
      "cell_type": "code",
      "metadata": {
        "id": "B0ell8RiXSj0",
        "colab_type": "code",
        "outputId": "61124fc3-d1dc-4a3f-cdfe-8b98d5d1eb70",
        "colab": {
          "base_uri": "https://localhost:8080/",
          "height": 118
        }
      },
      "source": [
        "############################## Mount Drive ######################################## \n",
        "from google.colab import drive\n",
        "drive.mount('/content/gdrive')\n",
        "############################## Change Directory ###################################\n",
        "import os\n",
        "os.chdir('/content/gdrive/My Drive/MLandDLFullCourse/ML/Classification/KNearestNeighbors')\n",
        "########## Suppress Warnings ############\n",
        "import warnings\n",
        "warnings.filterwarnings('ignore')\n",
        "########### Import Dataset #############\n",
        "import pandas as pd\n",
        "dataset=pd.read_csv('Social_Network_Ads.csv')\n",
        "X=dataset.iloc[:,1:4].values\n",
        "Y=dataset.iloc[:,4].values"
      ],
      "execution_count": 0,
      "outputs": [
        {
          "output_type": "stream",
          "text": [
            "Go to this URL in a browser: https://accounts.google.com/o/oauth2/auth?client_id=947318989803-6bn6qk8qdgf4n4g3pfee6491hc0brc4i.apps.googleusercontent.com&redirect_uri=urn%3aietf%3awg%3aoauth%3a2.0%3aoob&response_type=code&scope=email%20https%3a%2f%2fwww.googleapis.com%2fauth%2fdocs.test%20https%3a%2f%2fwww.googleapis.com%2fauth%2fdrive%20https%3a%2f%2fwww.googleapis.com%2fauth%2fdrive.photos.readonly%20https%3a%2f%2fwww.googleapis.com%2fauth%2fpeopleapi.readonly\n",
            "\n",
            "Enter your authorization code:\n",
            "··········\n",
            "Mounted at /content/gdrive\n"
          ],
          "name": "stdout"
        }
      ]
    },
    {
      "cell_type": "code",
      "metadata": {
        "id": "bUG0KvVZdFEf",
        "colab_type": "code",
        "outputId": "4ccaa4ec-ddbe-4e32-d4ee-e07823fa23fc",
        "colab": {
          "base_uri": "https://localhost:8080/",
          "height": 33
        }
      },
      "source": [
        "########### Categorical Variable ###############\n",
        "from sklearn.preprocessing import LabelEncoder\n",
        "le=LabelEncoder()\n",
        "X[:,0]=le.fit_transform(X[:,0])\n",
        "########## Feature Scaling ##############\n",
        "from sklearn.preprocessing import MinMaxScaler\n",
        "SC=MinMaxScaler(feature_range=(0,1))\n",
        "XScaled=SC.fit_transform(X)\n",
        "########## Train Test Split #############\n",
        "from sklearn.model_selection import train_test_split\n",
        "XTrain,XTest,YTrain,YTest=train_test_split(XScaled,Y,test_size=0.1,random_state=42)\n",
        "########## Check VIF ####################\n",
        "from statsmodels.stats.outliers_influence import variance_inflation_factor\n",
        "VIF=[0]*XTrain.shape[1]\n",
        "for col in range(0,XTrain.shape[1]):\n",
        "  VIF[col]=VIF[col]+variance_inflation_factor(exog=XTrain,exog_idx=col)#1.6142518559270171, 2.9082305467018816, 2.753146445004674\n",
        "VIF"
      ],
      "execution_count": 0,
      "outputs": [
        {
          "output_type": "execute_result",
          "data": {
            "text/plain": [
              "[1.6142518559270171, 2.9082305467018816, 2.753146445004674]"
            ]
          },
          "metadata": {
            "tags": []
          },
          "execution_count": 2
        }
      ]
    },
    {
      "cell_type": "code",
      "metadata": {
        "id": "Dk59Zwf5KD2h",
        "colab_type": "code",
        "outputId": "2f60ce31-daca-4cb9-f5c2-d05ca81a1edd",
        "colab": {
          "base_uri": "https://localhost:8080/",
          "height": 115
        }
      },
      "source": [
        "########## GridSearchCV hyperparameter tuning #################\n",
        "from sklearn.neighbors import KNeighborsClassifier\n",
        "RegressorKNN_GS=KNeighborsClassifier()\n",
        "params_GS=[{'n_neighbors':[3,5,10,15,20,25,30],\n",
        "           'weights':['uniform','distance'],\n",
        "           'algorithm':['auto'],\n",
        "           'leaf_size':[20,25,30,35,40,45,50],\n",
        "           'p':[1,2],\n",
        "           'metric':['euclidean','manhattan','chebyshev','minkowski',]}]\n",
        "from sklearn.model_selection import GridSearchCV\n",
        "GS=GridSearchCV(estimator=RegressorKNN_GS,param_grid=params_GS,scoring='accuracy',cv=10)\n",
        "GS.fit(XTrain,YTrain)\n",
        "best_params_KNN=GS.best_params_\n",
        "best_params_KNN"
      ],
      "execution_count": 0,
      "outputs": [
        {
          "output_type": "execute_result",
          "data": {
            "text/plain": [
              "{'algorithm': 'auto',\n",
              " 'leaf_size': 20,\n",
              " 'metric': 'manhattan',\n",
              " 'n_neighbors': 15,\n",
              " 'p': 1,\n",
              " 'weights': 'uniform'}"
            ]
          },
          "metadata": {
            "tags": []
          },
          "execution_count": 4
        }
      ]
    },
    {
      "cell_type": "code",
      "metadata": {
        "id": "-6Tqi_JDKLLF",
        "colab_type": "code",
        "outputId": "e9e45b19-51c6-4424-edb4-211013df7159",
        "colab": {
          "base_uri": "https://localhost:8080/",
          "height": 33
        }
      },
      "source": [
        "######### KFoldCrossValidation #################\n",
        "RegressorKNN=KNeighborsClassifier(algorithm='auto',leaf_size=20,metric='manhattan',n_neighbors=15,p=1,weights='uniform')\n",
        "from sklearn.model_selection import KFold\n",
        "from sklearn import metrics as mt\n",
        "import statistics as st\n",
        "Accuracy=[]\n",
        "kf=KFold(n_splits=40,shuffle=True)\n",
        "for count in range(0,100):\n",
        "  for train_index,val_index in kf.split(XTrain):\n",
        "    XTrainKF,YTrainKF=XTrain[train_index],YTrain[train_index]\n",
        "    XValKF,YValKF=XTrain[val_index],YTrain[val_index]\n",
        "    RegressorKNN.fit(XTrainKF,YTrainKF)\n",
        "    YPredKF=RegressorKNN.predict(XValKF)\n",
        "    Accuracy.append(mt.accuracy_score(YValKF,YPredKF))\n",
        "print(\"Average Accuracy: \"+str(st.mean(Accuracy)))#0.9086388888888889"
      ],
      "execution_count": 0,
      "outputs": [
        {
          "output_type": "stream",
          "text": [
            "Average Accuracy: 0.9086666666666666\n"
          ],
          "name": "stdout"
        }
      ]
    },
    {
      "cell_type": "code",
      "metadata": {
        "id": "pkQyjgq4KNKW",
        "colab_type": "code",
        "outputId": "c403477b-473d-4159-850f-697a7fe709ee",
        "colab": {
          "base_uri": "https://localhost:8080/",
          "height": 50
        }
      },
      "source": [
        "RegressorKNN.fit(XTrain,YTrain)\n",
        "YPred=RegressorKNN.predict(XTest)\n",
        "cm=mt.confusion_matrix(YTest,YPred)\n",
        "cm"
      ],
      "execution_count": 0,
      "outputs": [
        {
          "output_type": "execute_result",
          "data": {
            "text/plain": [
              "array([[25,  2],\n",
              "       [ 0, 13]])"
            ]
          },
          "metadata": {
            "tags": []
          },
          "execution_count": 6
        }
      ]
    }
  ]
}